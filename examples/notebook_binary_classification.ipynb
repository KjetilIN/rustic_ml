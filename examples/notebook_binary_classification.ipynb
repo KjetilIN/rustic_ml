{
 "cells": [
  {
   "cell_type": "markdown",
   "id": "ff34b956-c739-4514-b628-c1bcf4338b08",
   "metadata": {},
   "source": [
    "# Perceptron Binary Classification\n",
    "\n",
    "Lets imagine we have the following data:\n",
    "\n",
    "| Movie # | Alice | Bob | Profitable? |\n",
    "|---------|-------|-----|-------------|\n",
    "|    1    |   1   |  1  |      no     |\n",
    "|    2    |   4   |  3  |     yes     |\n",
    "|    3    |   3   |  5  |     yes     |\n",
    "|    4    |   5   |  6  |     yes     |\n",
    "|    5    |   2   |  3  |      no     |\n",
    "\n",
    "\n",
    "Our goal is to classify a profitable movie, based on two critics score.\n",
    "The score goes from 1-6.\n",
    "\n",
    "With `rustic_ml`, we can train on the dataset by using a `Perceptron`:"
   ]
  },
  {
   "cell_type": "code",
   "execution_count": 2,
   "id": "1c4a10dd-a25b-4a7f-beee-d925629ec6ae",
   "metadata": {},
   "outputs": [],
   "source": [
    "// See readme documentation for how to setup a Jupyter notebook with Rust and rustic_ml\n",
    ":dep rustic_ml = { path = \"../\" }\n",
    "extern crate rustic_ml;\n",
    "\n",
    "// Import the perceptron\n",
    "use rustic_ml::perceptron::Perceptron;"
   ]
  },
  {
   "cell_type": "code",
   "execution_count": 4,
   "id": "583c2849-2109-4cd2-b478-52e460ff0f46",
   "metadata": {},
   "outputs": [],
   "source": [
    "//Initialize the perceptron with a learning rate of 0.1\n",
    "let mut perceptron = Perceptron::init().learning_rate(1.0).bias(-1.0);"
   ]
  },
  {
   "cell_type": "markdown",
   "id": "34be0e90-0977-4154-ac4f-2ce8e337cfb9",
   "metadata": {},
   "source": [
    "For larger datasets, we could use the `Dataframe` struct, but for simplicity, using vector:"
   ]
  },
  {
   "cell_type": "code",
   "execution_count": 5,
   "id": "cd5deeb4-e15e-47ed-80ed-ff8338e67d7c",
   "metadata": {},
   "outputs": [],
   "source": [
    "let x_train: Vec<(f64, f64)> = vec![(1.0, 1.0), (4.0, 3.0), (3.0, 5.0), (5.0, 6.0), (2.0, 3.0)];\n",
    "let y_train = vec![0.0, 1.0, 1.0, 1.0, 0.0];"
   ]
  },
  {
   "cell_type": "markdown",
   "id": "3aa421ed-3590-440c-a666-e25b8f92600b",
   "metadata": {},
   "source": [
    "Training until it learns the system. This is something we can do since we know the data is linearly separable.\n",
    "We can also use `fit_until_halt` if we don't want to log each epoch:"
   ]
  },
  {
   "cell_type": "code",
   "execution_count": 6,
   "id": "8b0ad3e2-9b3e-498e-8f4a-f532c7004fd4",
   "metadata": {},
   "outputs": [
    {
     "name": "stdout",
     "output_type": "stream",
     "text": [
      "Epoch 1: 80% accuracy\n",
      "Epoch 2: 60% accuracy\n",
      "Epoch 3: 60% accuracy\n",
      "Epoch 4: 60% accuracy\n",
      "Epoch 5: 40% accuracy\n",
      "Epoch 6: 80% accuracy\n",
      "Epoch 7: 100% accuracy\n"
     ]
    }
   ],
   "source": [
    "perceptron.fit_until_halt_with_logging(&x_train, &y_train);"
   ]
  },
  {
   "cell_type": "markdown",
   "id": "cd4009f4-846e-4e9a-9c77-f936735638cc",
   "metadata": {},
   "source": [
    "Calculate the accuracy over the dataset:"
   ]
  },
  {
   "cell_type": "code",
   "execution_count": 10,
   "id": "a04a97e7-5d2b-49fc-8488-2e782b878328",
   "metadata": {},
   "outputs": [
    {
     "name": "stdout",
     "output_type": "stream",
     "text": [
      "Model accuracy: 100%\n"
     ]
    }
   ],
   "source": [
    "let accuracy = perceptron.calculate_accuracy(&x_train, &y_train);\n",
    "println!(\"Model accuracy: {}%\", accuracy);"
   ]
  },
  {
   "cell_type": "markdown",
   "id": "4de0b106-48d5-412b-8b39-439cbceb575f",
   "metadata": {},
   "source": [
    "To find out what the model final weights and biases was:"
   ]
  },
  {
   "cell_type": "code",
   "execution_count": 11,
   "id": "cbed4d1a-92b5-4a69-8fb9-59ea05a15b9e",
   "metadata": {},
   "outputs": [
    {
     "name": "stdout",
     "output_type": "stream",
     "text": [
      "         |Perceptron\n",
      "----------------------------------------\n",
      "   Bias  | -4\n",
      "----------------------------------------\n",
      "    W1   | 2.9568098897727078\n",
      "----------------------------------------\n",
      "    W2   | -0.608317931904085\n"
     ]
    }
   ],
   "source": [
    "perceptron.print_model();"
   ]
  },
  {
   "cell_type": "markdown",
   "id": "b6bb760d-5848-46d2-851f-d7b4524938ac",
   "metadata": {},
   "source": [
    "Using the model to predict. \n",
    "Alice gave the score 4, and Bob gave the score 2: "
   ]
  },
  {
   "cell_type": "code",
   "execution_count": 16,
   "id": "fc7737e8-51ce-44b2-8cd7-13120efbdd09",
   "metadata": {},
   "outputs": [
    {
     "name": "stdout",
     "output_type": "stream",
     "text": [
      "Critics judge: Will movie be profitable? yes\n"
     ]
    }
   ],
   "source": [
    "let profitable = if perceptron.predict(&(4.0, 3.0)) == 1{\n",
    "                    \"yes\"\n",
    "                }else{\n",
    "                    \"no\"\n",
    "                };\n",
    "\n",
    "println!(\"Critics judge: Will movie be profitable? {}\", profitable);"
   ]
  },
  {
   "cell_type": "code",
   "execution_count": null,
   "id": "b746dcb7-59ac-44a1-992c-3b6372dd6e68",
   "metadata": {},
   "outputs": [],
   "source": []
  }
 ],
 "metadata": {
  "kernelspec": {
   "display_name": "Rust",
   "language": "rust",
   "name": "rust"
  },
  "language_info": {
   "codemirror_mode": "rust",
   "file_extension": ".rs",
   "mimetype": "text/rust",
   "name": "Rust",
   "pygment_lexer": "rust",
   "version": ""
  }
 },
 "nbformat": 4,
 "nbformat_minor": 5
}
