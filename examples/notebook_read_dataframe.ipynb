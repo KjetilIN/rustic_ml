{
 "cells": [
  {
   "cell_type": "markdown",
   "id": "e237e057-796b-4e8a-89f8-076882ea2f9c",
   "metadata": {},
   "source": [
    "# Using `rustic_ml` in a Jupyter notebook"
   ]
  },
  {
   "cell_type": "markdown",
   "id": "733b683a-a558-4596-96e2-6faca1e4c29a",
   "metadata": {},
   "source": [
    "First step is to include the create to the notebook. Since this is a example within the library iteself, we import the libary using the path:"
   ]
  },
  {
   "cell_type": "code",
   "execution_count": 6,
   "id": "f541ad4f-9472-4cf6-a787-78a54389be91",
   "metadata": {
    "vscode": {
     "languageId": "rust"
    }
   },
   "outputs": [],
   "source": [
    ":dep rustic_ml = { path = \"../\" }\n",
    "extern crate rustic_ml;"
   ]
  },
  {
   "cell_type": "markdown",
   "id": "67ec5c36-a929-4ee0-92bb-58cdcc7d5a5b",
   "metadata": {},
   "source": [
    "Next, include the function that we are going to use from the library: "
   ]
  },
  {
   "cell_type": "code",
   "execution_count": 7,
   "id": "3f2c42e6-7cf4-45b5-bdfb-1228b2bce10d",
   "metadata": {
    "vscode": {
     "languageId": "rust"
    }
   },
   "outputs": [],
   "source": [
    "use rustic_ml::data_utils::dataframe::Dataframe;"
   ]
  },
  {
   "cell_type": "markdown",
   "id": "76a9d147-f8ce-4bd5-9f12-dee698b0a942",
   "metadata": {},
   "source": [
    "Reading a csv file:"
   ]
  },
  {
   "cell_type": "code",
   "execution_count": null,
   "id": "d5d58a4d-8e12-44b8-9974-6408333cefc4",
   "metadata": {},
   "outputs": [],
   "source": [
    "let path = String::from(\"../datasets/european_cities.csv\");\n",
    "let dataframe = Dataframe::from_csv(path).unwrap();"
   ]
  },
  {
   "cell_type": "markdown",
   "id": "152858c3-707d-4563-8e69-5f2681797399",
   "metadata": {},
   "source": [
    "Run the following codeblock to see the information about the dataframe:"
   ]
  },
  {
   "cell_type": "code",
   "execution_count": 10,
   "id": "11070ca7-ffcc-41bd-851e-e67c7fb89d48",
   "metadata": {},
   "outputs": [
    {
     "name": "stdout",
     "output_type": "stream",
     "text": [
      "Column Name          Type       None       Some            Total Length   \n",
      "-----------------------------------------------------------------\n",
      "Barcelona            Float      0          24              24             \n",
      "Belgrade             Float      0          24              24             \n",
      "Berlin               Float      0          24              24             \n",
      "Brussels             Float      0          24              24             \n",
      "Bucharest            Float      0          24              24             \n",
      "Budapest             Float      0          24              24             \n",
      "Copenhagen           Float      0          24              24             \n",
      "Dublin               Float      0          24              24             \n",
      "Hamburg              Float      0          24              24             \n",
      "Istanbul             Float      0          24              24             \n",
      "Kyiv                 Float      0          24              24             \n",
      "London               Float      0          24              24             \n",
      "Madrid               Float      0          24              24             \n",
      "Milan                Float      0          24              24             \n",
      "Moscow               Float      0          24              24             \n",
      "Munich               Float      0          24              24             \n",
      "Paris                Float      0          24              24             \n",
      "Prague               Float      0          24              24             \n",
      "Rome                 Float      0          24              24             \n",
      "Saint Petersburg     Float      0          24              24             \n",
      "Sofia                Float      0          24              24             \n",
      "Stockholm            Float      0          24              24             \n",
      "Vienna               Float      0          24              24             \n",
      "Warsaw               Float      0          24              24             \n"
     ]
    },
    {
     "data": {
      "text/plain": [
       "()"
      ]
     },
     "execution_count": 10,
     "metadata": {},
     "output_type": "execute_result"
    }
   ],
   "source": [
    "dataframe.info()"
   ]
  },
  {
   "cell_type": "markdown",
   "id": "546e0b63-3577-456f-8a1f-83d306f0e7af",
   "metadata": {},
   "source": [
    "To see the memory usage of the dataframe, we call `memory_usage()`:"
   ]
  },
  {
   "cell_type": "code",
   "execution_count": 11,
   "id": "63ed09c7-6779-4fa0-a4c4-fb77d421f43a",
   "metadata": {},
   "outputs": [
    {
     "data": {
      "text/plain": [
       "4608"
      ]
     },
     "execution_count": 11,
     "metadata": {},
     "output_type": "execute_result"
    }
   ],
   "source": [
    "dataframe.memory_usage()"
   ]
  }
 ],
 "metadata": {
  "kernelspec": {
   "display_name": "Rust",
   "language": "rust",
   "name": "rust"
  },
  "language_info": {
   "codemirror_mode": "rust",
   "file_extension": ".rs",
   "mimetype": "text/rust",
   "name": "Rust",
   "pygment_lexer": "rust",
   "version": ""
  }
 },
 "nbformat": 4,
 "nbformat_minor": 5
}
